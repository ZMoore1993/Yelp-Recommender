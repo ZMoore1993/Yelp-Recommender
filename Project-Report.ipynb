{
 "cells": [
  {
   "cell_type": "markdown",
   "metadata": {},
   "source": [
    "                                                                                                            Zachary Moore\n",
    "                                                                                                            Fall 2018\n",
    "                                                                                                            CptS 315\n",
    "                                                                                                            Project Report\n",
    "\n",
    "The dataset is composed of businesses, users, and business reviews by users. The original data files were in JSON format, but I changed it to CSV format after I reduced the size of the data and removing some columns. I used the recommender algorithm in order to recommend a number of restaurants to a select amount of users based on ratings from other users. "
   ]
  },
  {
   "cell_type": "markdown",
   "metadata": {},
   "source": [
    "# Recommender"
   ]
  },
  {
   "cell_type": "markdown",
   "metadata": {},
   "source": [
    "First, the CSV data files need to be loaded into dataframes. Not all of the fields will be used in the dataframes which uses less memory. \n",
    "\n",
    "The businesses dataframe, bdf, contains various information about businesses. This project will use the name, business_id and is_open fields in order to display recommended businesses for a user. \n",
    "\n",
    "The users dataframe, udf, contains various information about users. Only user_id and name is used at the end of the project when displaying recommendations for users. The original data contained their names, but it was only the first names which would give duplicate names and be confusing. Since user_id is unique, it will be used with name to avoid confusion.\n",
    "\n",
    "The reviews dataframe, rdf, contains information about business reviews made by users. The fields/columns being used are business_id, user_id, and stars. The text/comment field could be used for refining the algorithm later, but it wasn't be used for this project."
   ]
  },
  {
   "cell_type": "code",
   "execution_count": 1,
   "metadata": {},
   "outputs": [],
   "source": [
    "import pandas as pd\n",
    "import seaborn as sns\n",
    "import warnings\n",
    "warnings.filterwarnings('ignore')\n",
    "\n",
    "path = './dataset/'\n",
    "udf = pd.read_csv(path + 'dataset_user.csv')\n",
    "bdf = pd.read_csv(path + 'dataset_business.csv')\n",
    "rdf = pd.read_csv(path + 'dataset_review.csv')\n",
    "rdf = rdf[['business_id','user_id','stars']]\n",
    "udf = udf[['user_id','name']]\n",
    "bdf = bdf[['business_id','name','is_open']]"
   ]
  },
  {
   "cell_type": "markdown",
   "metadata": {},
   "source": [
    "Since I'm ignoring what the businesses are categorized as, business recommendations are made based solely on ratings of other businesses. Of course, this isn't very helpful when trying to give accurate recommendations to a user. \n",
    "\n",
    "One way to make it more accurate would be finding the category frequency of businesses that a user rated. After that, the recommender could give the user recommendations for a business in the category that they rated the most.\n",
    "\n",
    "Another possible way would be reducing the data in the business dataset and review dataset to a certain category, such as restaurant, and giving recommendations to users that rated businesses in the category.\n",
    "\n",
    "The next step in analyzing the data is creating a dataframe with the average rating for each business and the number of ratings.\n",
    "The ratings are used to determine the correlation between the businesses. Below the following block of code is a histogram. The blue bars depict the number of businesses with average ratings between one and five (inclusively). The orange bars depict the frequency of ratings. For example, over 800 businesses have only one rating. "
   ]
  },
  {
   "cell_type": "code",
   "execution_count": 2,
   "metadata": {},
   "outputs": [
    {
     "data": {
      "text/plain": [
       "<seaborn.axisgrid.JointGrid at 0x21ccb48da58>"
      ]
     },
     "execution_count": 2,
     "metadata": {},
     "output_type": "execute_result"
    },
    {
     "data": {
      "image/png": "[encoded data removed]",
      "text/plain": [
       "<Figure size 432x288 with 1 Axes>"
      ]
     },
     "metadata": {},
     "output_type": "display_data"
    },
    {
     "data": {
      "image/png": "[encoded data removed]",
      "text/plain": [
       "<Figure size 432x288 with 1 Axes>"
      ]
     },
     "metadata": {},
     "output_type": "display_data"
    },
    {
     "data": {
      "image/png": "[encoded data removed]",
      "text/plain": [
       "<Figure size 432x432 with 3 Axes>"
      ]
     },
     "metadata": {},
     "output_type": "display_data"
    }
   ],
   "source": [
    "bus_ratings = rdf.groupby(['business_id'])['stars']\n",
    "ratings = pd.DataFrame(bus_ratings.mean())\n",
    "ratings['number_of_ratings'] = bus_ratings.count()\n",
    "\n",
    "ratings.hist(bins=50,column='stars')\n",
    "ratings.hist(bins=50,column='number_of_ratings')\n",
    "sns.jointplot(x='stars',y='number_of_ratings',data=ratings)"
   ]
  },
  {
   "cell_type": "markdown",
   "metadata": {},
   "source": [
    "According to the plot there are businesses with great ratings, but they were not rated many times. Because of that, the recommender doesn't work as effectively. In order to get around this, a minimum number of ratings is placed when the algorithm gives the recommendations. As one can see from the joint plot, the ratings become higher as the number of ratings increases."
   ]
  },
  {
   "cell_type": "code",
   "execution_count": 4,
   "metadata": {},
   "outputs": [],
   "source": [
    "bus_matrix = rdf.pivot_table(index='user_id',columns='business_id',values='stars')\n",
    "\n",
    "uratings_dict = dict()\n",
    "for bid in ratings.index:\n",
    "    uratings_dict[bid] = bus_matrix[bid]\n",
    "\n",
    "ratings_threshold = 1\n",
    "for key in uratings_dict:\n",
    "    sim = bus_matrix.corrwith(uratings_dict[key])\n",
    "    corr = pd.DataFrame(sim,columns=['Correlation'])\n",
    "    corr.dropna(inplace=True)\n",
    "    corr = corr.join(ratings['number_of_ratings'])\n",
    "    #corr[corr['number_of_ratings'] > ratings_threshold].sort_values(by='Correlation', ascending=False).head(10)"
   ]
  },
  {
   "cell_type": "code",
   "execution_count": null,
   "metadata": {},
   "outputs": [],
   "source": []
  }
 ],
 "metadata": {
  "kernelspec": {
   "display_name": "Python 3",
   "language": "python",
   "name": "python3"
  },
  "language_info": {
   "codemirror_mode": {
    "name": "ipython",
    "version": 3
   },
   "file_extension": ".py",
   "mimetype": "text/x-python",
   "name": "python",
   "nbconvert_exporter": "python",
   "pygments_lexer": "ipython3",
   "version": "3.6.5"
  }
 },
 "nbformat": 4,
 "nbformat_minor": 2
}
